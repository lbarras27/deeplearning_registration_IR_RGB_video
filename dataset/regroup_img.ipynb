{
 "cells": [
  {
   "cell_type": "code",
   "execution_count": 1,
   "metadata": {},
   "outputs": [],
   "source": [
    "import util\n",
    "import cv2\n",
    "import numpy as np"
   ]
  },
  {
   "cell_type": "code",
   "execution_count": 11,
   "metadata": {},
   "outputs": [],
   "source": [
    "path1 = \"DATA3/DATASETS/DATASET0/\"\n",
    "\n",
    "thresh_rgb, thresh_ir = util.loadDataset2(path1, \"MASK_RGB\", \"MASK_IR\")"
   ]
  },
  {
   "cell_type": "code",
   "execution_count": 12,
   "metadata": {},
   "outputs": [
    {
     "data": {
      "text/plain": [
       "(1532, 240, 320, 3)"
      ]
     },
     "execution_count": 12,
     "metadata": {},
     "output_type": "execute_result"
    }
   ],
   "source": [
    "thresh_rgb.shape"
   ]
  },
  {
   "cell_type": "code",
   "execution_count": 13,
   "metadata": {},
   "outputs": [],
   "source": [
    "path2 = \"DATA3/DATASETS/DATASET5/\"\n",
    "\n",
    "thresh_rgb2, thresh_ir2 = util.loadDataset2(path2, \"MASK_RGB\", \"MASK_IR\")"
   ]
  },
  {
   "cell_type": "code",
   "execution_count": 14,
   "metadata": {},
   "outputs": [],
   "source": [
    "path3 = \"DATA3/DATASETS/DATASET6/\"\n",
    "\n",
    "thresh_rgb3, thresh_ir3 = util.loadDataset2(path3, \"MASK_RGB\", \"MASK_IR\")"
   ]
  },
  {
   "cell_type": "code",
   "execution_count": 15,
   "metadata": {},
   "outputs": [],
   "source": [
    "path4 = \"DATA3/DATASETS/DATASET7/\"\n",
    "\n",
    "thresh_rgb4, thresh_ir4 = util.loadDataset2(path4, \"MASK_RGB\", \"MASK_IR\")"
   ]
  },
  {
   "cell_type": "code",
   "execution_count": 16,
   "metadata": {},
   "outputs": [
    {
     "name": "stdout",
     "output_type": "stream",
     "text": [
      "(1532, 240, 320, 3) (4816, 240, 320, 3) (2620, 240, 320, 3) (4701, 240, 320, 3)\n"
     ]
    }
   ],
   "source": [
    "print(thresh_rgb.shape, thresh_rgb2.shape, thresh_rgb3.shape, thresh_rgb4.shape)"
   ]
  },
  {
   "cell_type": "code",
   "execution_count": 17,
   "metadata": {},
   "outputs": [],
   "source": [
    "dataset_rgb = []\n",
    "dataset_ir = []\n",
    "for i in range(0, thresh_rgb.shape[0]):\n",
    "    dataset_rgb.append(thresh_rgb[i])\n",
    "    dataset_ir.append(thresh_ir[i])\n",
    "\n",
    "for i in range(0, thresh_rgb2.shape[0]):\n",
    "    dataset_rgb.append(thresh_rgb2[i])\n",
    "    dataset_ir.append(thresh_ir2[i])\n",
    "\n",
    "for i in range(0, thresh_rgb3.shape[0]):\n",
    "    dataset_rgb.append(thresh_rgb3[i])\n",
    "    dataset_ir.append(thresh_ir3[i])\n",
    "    \n",
    "for i in range(0, thresh_rgb4.shape[0]):\n",
    "    dataset_rgb.append(thresh_rgb4[i])\n",
    "    dataset_ir.append(thresh_ir4[i])\n",
    "    \n",
    "dataset_rgb = np.array(dataset_rgb)\n",
    "dataset_ir = np.array(dataset_ir)"
   ]
  },
  {
   "cell_type": "code",
   "execution_count": 18,
   "metadata": {},
   "outputs": [
    {
     "data": {
      "text/plain": [
       "(13669, 240, 320, 3)"
      ]
     },
     "execution_count": 18,
     "metadata": {},
     "output_type": "execute_result"
    }
   ],
   "source": [
    "dataset_rgb.shape"
   ]
  },
  {
   "cell_type": "code",
   "execution_count": 19,
   "metadata": {},
   "outputs": [],
   "source": [
    "util.saveImages(dataset_rgb, \"DATA3/DATASETS/DATASET_FINAL/MASK_RGB\")\n",
    "util.saveImages(dataset_ir, \"DATA3/DATASETS/DATASET_FINAL/MASK_IR\")"
   ]
  },
  {
   "cell_type": "code",
   "execution_count": null,
   "metadata": {},
   "outputs": [],
   "source": []
  }
 ],
 "metadata": {
  "kernelspec": {
   "display_name": "Python 3",
   "language": "python",
   "name": "python3"
  },
  "language_info": {
   "codemirror_mode": {
    "name": "ipython",
    "version": 3
   },
   "file_extension": ".py",
   "mimetype": "text/x-python",
   "name": "python",
   "nbconvert_exporter": "python",
   "pygments_lexer": "ipython3",
   "version": "3.7.4"
  }
 },
 "nbformat": 4,
 "nbformat_minor": 2
}
