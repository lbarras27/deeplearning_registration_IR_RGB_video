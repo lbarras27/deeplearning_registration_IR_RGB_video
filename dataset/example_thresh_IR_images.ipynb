{
 "cells": [
  {
   "cell_type": "code",
   "execution_count": 1,
   "metadata": {},
   "outputs": [],
   "source": [
    "import sys\n",
    "sys.path.append('../')\n",
    "import util\n",
    "import numpy as np\n",
    "import cv2\n",
    "import matplotlib.pyplot as plt\n",
    "\n",
    "%matplotlib inline"
   ]
  },
  {
   "cell_type": "code",
   "execution_count": 2,
   "metadata": {},
   "outputs": [
    {
     "data": {
      "text/plain": [
       "(10, 240, 320, 3)"
      ]
     },
     "execution_count": 2,
     "metadata": {},
     "output_type": "execute_result"
    }
   ],
   "source": [
    "path = \"../imgs/\"\n",
    "\n",
    "# load the rgb and ir images\n",
    "imgs_rgb, imgs_ir = util.loadDataset(path, \"rgb\", \"ir\")\n",
    "\n",
    "imgs_ir.shape"
   ]
  },
  {
   "cell_type": "code",
   "execution_count": 3,
   "metadata": {},
   "outputs": [],
   "source": [
    "# we thresh from frame begin to frame end\n",
    "begin = 0\n",
    "end = 10\n",
    "\n",
    "# value of the thresh \n",
    "thresh = 180\n",
    "\n",
    "thresh_img = []\n",
    "# threshold the image(s) with its blue channel\n",
    "for n in range(begin, end):\n",
    "    test_thresh = imgs_ir[n, :, :, 0].copy()\n",
    "    for i in range(0, test_thresh.shape[0]):\n",
    "        for j in range(0, test_thresh.shape[1]):\n",
    "            if test_thresh[i, j] > thresh: \n",
    "                test_thresh[i, j] = 0\n",
    "            else:\n",
    "                test_thresh[i, j] = 255\n",
    "    thresh_img.append(test_thresh)\n",
    "thresh_img = np.array(thresh_img)"
   ]
  },
  {
   "cell_type": "code",
   "execution_count": 4,
   "metadata": {
    "scrolled": true
   },
   "outputs": [
    {
     "data": {
      "image/png": "[encoded data removed]",
      "text/plain": [
       "<Figure size 360x360 with 1 Axes>"
      ]
     },
     "metadata": {
      "needs_background": "light"
     },
     "output_type": "display_data"
    },
    {
     "data": {
      "image/png": "[encoded data removed]",
      "text/plain": [
       "<Figure size 360x360 with 1 Axes>"
      ]
     },
     "metadata": {
      "needs_background": "light"
     },
     "output_type": "display_data"
    }
   ],
   "source": [
    "step = 5\n",
    "\n",
    "# print the thresh results\n",
    "for i in range(0, end-begin, step):\n",
    "    plt.figure(figsize=(5,5))\n",
    "    plt.title(\"frame\"+str(begin + i))\n",
    "    plt.imshow(thresh_img[i], cmap='gray')"
   ]
  },
  {
   "cell_type": "code",
   "execution_count": null,
   "metadata": {},
   "outputs": [],
   "source": []
  }
 ],
 "metadata": {
  "kernelspec": {
   "display_name": "Python 3",
   "language": "python",
   "name": "python3"
  },
  "language_info": {
   "codemirror_mode": {
    "name": "ipython",
    "version": 3
   },
   "file_extension": ".py",
   "mimetype": "text/x-python",
   "name": "python",
   "nbconvert_exporter": "python",
   "pygments_lexer": "ipython3",
   "version": "3.7.4"
  }
 },
 "nbformat": 4,
 "nbformat_minor": 2
}
