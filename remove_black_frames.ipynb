{
 "cells": [
  {
   "cell_type": "code",
   "execution_count": 7,
   "metadata": {},
   "outputs": [],
   "source": [
    "import torch\n",
    "import numpy as np\n",
    "import os, sys\n",
    "import cv2\n",
    "import matplotlib.pyplot as plt\n",
    "import re\n",
    "import util\n",
    "\n",
    "%matplotlib inline"
   ]
  },
  {
   "cell_type": "code",
   "execution_count": 2,
   "metadata": {},
   "outputs": [],
   "source": [
    "path = \"DATA/IR VIS HAK\"\n",
    "\n",
    "def sortOrder(name):\n",
    "    return int(re.findall(\"\\d+\", name)[0])\n",
    "\n",
    "\n",
    "img_src_ir = os.listdir(path + \"/SAVE_2_IR0_FRAMES_resize\")\n",
    "img_src_rgb = os.listdir(path + \"/SAVE_2_visible_frames\")\n",
    "\n",
    "img_src_ir.sort(key = sortOrder)\n",
    "img_src_rgb.sort(key = sortOrder)\n",
    "\n",
    "imgs_rgb = []\n",
    "imgs_ir = []\n",
    "\n",
    "for ir, rgb in zip(img_src_ir, img_src_rgb):\n",
    "    img_rgb = cv2.imread(path + \"/SAVE_2_visible_frames/\" + rgb)\n",
    "    img_ir = cv2.imread(path + \"/SAVE_2_IR0_FRAMES_resize/\" + ir)\n",
    "    imgs_rgb.append(img_rgb)\n",
    "    imgs_ir.append(img_ir)\n",
    "\n",
    "imgs_rgb = np.array(imgs_rgb)\n",
    "imgs_ir = np.array(imgs_ir)"
   ]
  },
  {
   "cell_type": "code",
   "execution_count": 3,
   "metadata": {},
   "outputs": [
    {
     "name": "stdout",
     "output_type": "stream",
     "text": [
      "(16442, 240, 320, 3)\n"
     ]
    }
   ],
   "source": [
    "len(imgs_rgb)\n",
    "print(imgs_rgb.shape)"
   ]
  },
  {
   "cell_type": "code",
   "execution_count": 4,
   "metadata": {},
   "outputs": [
    {
     "data": {
      "text/plain": [
       "0.14787326388888888"
      ]
     },
     "execution_count": 4,
     "metadata": {},
     "output_type": "execute_result"
    }
   ],
   "source": [
    "(imgs_rgb[0] < 20).sum()/(3*76800)\n",
    "#imgs_rgb.shape[0]"
   ]
  },
  {
   "cell_type": "code",
   "execution_count": 8,
   "metadata": {},
   "outputs": [],
   "source": [
    "#imgs_rgb_noBlack = []\n",
    "#imgs_rgb_black = []\n",
    "#id_noBlack_frames = []\n",
    "#for i in range(imgs_rgb.shape[0]):\n",
    "#    if (imgs_rgb[i] < 20).sum()/(3*76800) > 0.95:\n",
    "#        imgs_rgb_black.append(imgs_rgb[i])\n",
    "#    else:\n",
    "#        imgs_rgb_noBlack.append(imgs_rgb[i])\n",
    "#        id_noBlack_frames.append(i)\n",
    "\n",
    "#print(len(imgs_rgb_noBlack))\n",
    "#print(len(imgs_rgb_black))\n",
    "imgs_rgb_nb, imgs_rgb_b, id_noBlack_frames = util.splitBlackImages(imgs_rgb)"
   ]
  },
  {
   "cell_type": "code",
   "execution_count": 9,
   "metadata": {},
   "outputs": [],
   "source": [
    "#imgs_rgb_nb = np.array(imgs_rgb_noBlack)\n",
    "#imgs_rgb_b = np.array(imgs_rgb_black)"
   ]
  },
  {
   "cell_type": "code",
   "execution_count": 10,
   "metadata": {},
   "outputs": [
    {
     "name": "stdout",
     "output_type": "stream",
     "text": [
      "(3809, 240, 320, 3)\n"
     ]
    },
    {
     "data": {
      "text/plain": [
       "12633"
      ]
     },
     "execution_count": 10,
     "metadata": {},
     "output_type": "execute_result"
    }
   ],
   "source": [
    "print(imgs_rgb_b.shape)\n",
    "imgs_rgb_nb.shape\n",
    "len(id_noBlack_frames)"
   ]
  },
  {
   "cell_type": "code",
   "execution_count": null,
   "metadata": {},
   "outputs": [],
   "source": [
    "plt.figure(figsize=(15,15))\n",
    "plt.subplot(121)\n",
    "\n",
    "plt.imshow(imgs_rgb_nb[0])\n",
    "\n",
    "plt.subplot(122)\n",
    "\n",
    "plt.imshow(imgs_rgb_b[3080])"
   ]
  },
  {
   "cell_type": "code",
   "execution_count": null,
   "metadata": {},
   "outputs": [],
   "source": [
    "for i in range(imgs_rgb_b.shape[0]):\n",
    "    cv2.imwrite(\"DATA/IR VIS HAK/black_frames/frame\"+str(i)+\".jpg\", imgs_rgb_b[i])"
   ]
  },
  {
   "cell_type": "code",
   "execution_count": null,
   "metadata": {},
   "outputs": [],
   "source": [
    "for j, i in enumerate(id_noBlack_frames):\n",
    "    cv2.imwrite(\"DATA/IR VIS HAK/SAVE_2_visible_noBlack_frames/frame\"+str(i)+\".jpg\", imgs_rgb_nb[j])"
   ]
  },
  {
   "cell_type": "code",
   "execution_count": null,
   "metadata": {},
   "outputs": [],
   "source": [
    "for i in id_noBlack_frames:\n",
    "    cv2.imwrite(\"DATA/IR VIS HAK/SAVE_2_IR0_noBlack_frames/frame\"+str(i)+\".jpg\", imgs_ir[i])"
   ]
  },
  {
   "cell_type": "code",
   "execution_count": null,
   "metadata": {},
   "outputs": [],
   "source": [
    "#name = \"image2432\"\n",
    "#n = int(re.findall(\"\\d+\", name)[0])\n",
    "\n",
    "def sortOrder(name):\n",
    "    return int(re.findall(\"\\d+\", name)[0])"
   ]
  },
  {
   "cell_type": "code",
   "execution_count": null,
   "metadata": {},
   "outputs": [],
   "source": [
    "chaine = [\"image1\", \"image10\", \"image2\"]\n",
    "\n",
    "chaine.sort(key = sortOrder)\n",
    "chaine"
   ]
  },
  {
   "cell_type": "code",
   "execution_count": null,
   "metadata": {},
   "outputs": [],
   "source": []
  }
 ],
 "metadata": {
  "kernelspec": {
   "display_name": "Python 3",
   "language": "python",
   "name": "python3"
  },
  "language_info": {
   "codemirror_mode": {
    "name": "ipython",
    "version": 3
   },
   "file_extension": ".py",
   "mimetype": "text/x-python",
   "name": "python",
   "nbconvert_exporter": "python",
   "pygments_lexer": "ipython3",
   "version": "3.7.4"
  }
 },
 "nbformat": 4,
 "nbformat_minor": 2
}
